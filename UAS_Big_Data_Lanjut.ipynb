{
  "nbformat": 4,
  "nbformat_minor": 0,
  "metadata": {
    "colab": {
      "provenance": []
    },
    "kernelspec": {
      "name": "python3",
      "display_name": "Python 3"
    },
    "language_info": {
      "name": "python"
    }
  },
  "cells": [
    {
      "cell_type": "markdown",
      "source": [
        "1."
      ],
      "metadata": {
        "id": "zVyH3Vf2tAY0"
      }
    },
    {
      "cell_type": "markdown",
      "source": [
        "## A.saya dan tim saya mengambil bidang saham pada mobil tesla"
      ],
      "metadata": {
        "id": "vMtwCnh2rieU"
      }
    },
    {
      "cell_type": "markdown",
      "source": [
        "## B.saya mendapatkan dataset harga saham mobil tesla yaitu dengan mencari di kagle. Di dalam dataset tersebut kumpulan data yg memberikan gambaran tentang kinerja saham tesla pada 3 dekade terakhir.TSLA adalah salah satu produsen kendaraan listrik paling dikenal di dunia dan sahamnya mengalami volalitas yg cukup besar sehingga menjadikanya aset yg paling populer bagi para investor,analis dan penggemar. Dataset ini mencangkup beberapa kolom kolom yaitu Tanggal data saham, Harga pembukaan saham tesla pada tanggal tertentu, Mengetahui harga tertinngi pada saham tesla pada tanggal tersebut, Mengetahui harga terendah pada saham tesla pada tanggal tersebut, Harga penutupan saham tesla pada tanggal tersebut, Jumlah total saham yg di perdagangkan pada tanggal tersebut."
      ],
      "metadata": {
        "id": "eYiyQturtC8Q"
      }
    },
    {
      "cell_type": "markdown",
      "source": [
        "## C.Memeriksa Tipe Data"
      ],
      "metadata": {
        "id": "5pufd9p4w-0Y"
      }
    },
    {
      "cell_type": "code",
      "execution_count": 5,
      "metadata": {
        "colab": {
          "base_uri": "https://localhost:8080/"
        },
        "id": "jHQB5WF0rTEM",
        "outputId": "bb292f8d-86c8-44d4-ef03-4d300e2b8fe6"
      },
      "outputs": [
        {
          "output_type": "stream",
          "name": "stdout",
          "text": [
            "root\n",
            " |-- _c0: integer (nullable = true)\n",
            " |-- Date: string (nullable = true)\n",
            " |-- Open: double (nullable = true)\n",
            " |-- High: double (nullable = true)\n",
            " |-- Low: double (nullable = true)\n",
            " |-- Close: double (nullable = true)\n",
            " |-- Adj Close: double (nullable = true)\n",
            " |-- Volume: integer (nullable = true)\n",
            "\n"
          ]
        }
      ],
      "source": [
        "import pyspark.sql.functions as F\n",
        "from pyspark.sql import SparkSession\n",
        "\n",
        "spark = SparkSession.builder.appName(\"CekTipeData\").getOrCreate()\n",
        "\n",
        "df = spark.read.csv(\"/content/TESLA.csv\", header=True, inferSchema=True)\n",
        "\n",
        "df.printSchema()"
      ]
    },
    {
      "cell_type": "markdown",
      "source": [
        "## C.Mengganti Nama Kolom"
      ],
      "metadata": {
        "id": "ulR65cRtxys_"
      }
    },
    {
      "cell_type": "code",
      "source": [
        "df = df.withColumnRenamed(\"c0\", \"col0\") \\\n",
        "       .withColumnRenamed(\"Date\", \"tgl\") \\\n",
        "       .withColumnRenamed(\"Open\", \"buka\") \\\n",
        "       .withColumnRenamed(\"High\", \"tinggi\") \\\n",
        "       .withColumnRenamed(\"Low\", \"rendah\") \\\n",
        "       .withColumnRenamed(\"Close\", \"tutup\") \\\n",
        "       .withColumnRenamed(\"Adj Close\", \"adj_tutup\") \\\n",
        "       .withColumnRenamed(\"Volume\", \"vol\")\n",
        "df.printSchema()"
      ],
      "metadata": {
        "colab": {
          "base_uri": "https://localhost:8080/"
        },
        "id": "vfO0rojRx7wp",
        "outputId": "b3b357c6-3402-45cd-fa3b-15ea94a143fc"
      },
      "execution_count": 6,
      "outputs": [
        {
          "output_type": "stream",
          "name": "stdout",
          "text": [
            "root\n",
            " |-- _c0: integer (nullable = true)\n",
            " |-- tgl: string (nullable = true)\n",
            " |-- buka: double (nullable = true)\n",
            " |-- tinggi: double (nullable = true)\n",
            " |-- rendah: double (nullable = true)\n",
            " |-- tutup: double (nullable = true)\n",
            " |-- adj_tutup: double (nullable = true)\n",
            " |-- vol: integer (nullable = true)\n",
            "\n"
          ]
        }
      ]
    },
    {
      "cell_type": "code",
      "source": [
        "df.show(100)"
      ],
      "metadata": {
        "colab": {
          "base_uri": "https://localhost:8080/"
        },
        "id": "pJLSnr0dz8rA",
        "outputId": "e9da960b-0c9f-4285-e8bc-300ccc7d73a9"
      },
      "execution_count": 7,
      "outputs": [
        {
          "output_type": "stream",
          "name": "stdout",
          "text": [
            "+---+--------+-----------+-----------+-----------+-----------+-----------+---------+\n",
            "|_c0|     tgl|       buka|     tinggi|     rendah|      tutup|  adj_tutup|      vol|\n",
            "+---+--------+-----------+-----------+-----------+-----------+-----------+---------+\n",
            "|  0| 6/29/10|1.266667008|1.666666985|1.169332981|1.592666984|1.592666984|281494500|\n",
            "|  1| 6/30/10|1.719333053|2.028000116|1.553333044|1.588667035|1.588667035|257806500|\n",
            "|  2|  7/1/10|1.666666985|1.728000045|1.351333022|1.463999987|1.463999987|123282000|\n",
            "|  3|  7/2/10|1.533332944|1.539999962| 1.24733305|1.279999971|1.279999971| 77097000|\n",
            "|  4|  7/6/10|1.333333015|1.333333015|1.055333018|1.074000001|1.074000001|103003500|\n",
            "|  5|  7/7/10|1.093333006|1.108667016|0.998667002|1.053333044|1.053333044|103825500|\n",
            "|  6|  7/8/10|1.075999975|1.167999983|1.037999988|1.164000034|1.164000034|115671000|\n",
            "|  7|  7/9/10|1.172000051| 1.19333303|1.103332996|1.159999967|1.159999967| 60759000|\n",
            "|  8| 7/12/10|1.196666956|1.204666972|1.133332968|1.136667013|1.136667013| 33037500|\n",
            "|  9| 7/13/10|1.159332991| 1.24266696|1.126667023|1.209332943|1.209332943| 40201500|\n",
            "| 10| 7/14/10| 1.19599998|1.343333006|1.184000015|1.322667003|1.322667003| 62928000|\n",
            "| 11| 7/15/10|1.329332948|1.433333039|1.266667008|1.325999975|1.325999975| 56097000|\n",
            "| 12| 7/16/10|1.379999995|1.419999957|1.336666942|1.376000047|1.376000047| 39319500|\n",
            "| 13| 7/19/10|1.424667001|1.483332992|1.394667029|1.460667014|1.460667014| 37297500|\n",
            "| 14| 7/20/10|1.456666946|1.456666946|1.336666942|1.353332996|1.353332996| 27379500|\n",
            "| 15| 7/21/10|1.377333045|1.393332958|1.299999952| 1.34800005| 1.34800005| 18787500|\n",
            "| 16| 7/22/10|1.366667032|1.416666985| 1.35800004|1.399999976|1.399999976| 14367000|\n",
            "| 17| 7/23/10|1.412667036|1.437332988|1.404000044|1.419332981|1.419332981|  9804000|\n",
            "| 18| 7/26/10|1.433333039|1.433333039|1.353332996|1.396667004|1.396667004| 13833000|\n",
            "| 19| 7/27/10|1.394000053|1.411999941|   1.350667|1.370000005|1.370000005|  9295500|\n",
            "| 20| 7/28/10|1.370000005|1.393332958|1.367333055|1.381332994|1.381332994|  7008000|\n",
            "| 21| 7/29/10|1.384667039| 1.39199996|1.333333015|1.356667042|1.356667042|  9240000|\n",
            "| 22| 7/30/10|1.346667051|1.362666965|1.303333044|1.329332948|1.329332948|  6403500|\n",
            "| 23|  8/2/10|1.366667032|1.398000002|1.355332971|1.394667029|1.394667029| 10771500|\n",
            "| 24|  8/3/10|1.399999976|1.463333011|1.388000011|1.463333011|1.463333011| 18457500|\n",
            "| 25|  8/4/10|1.463333011|1.478667021|1.389999986|1.417333007|1.417333007| 13695000|\n",
            "| 26|  8/5/10| 1.43599999|1.436666965|1.336666942|1.363332987|1.363332987| 11943000|\n",
            "| 27|  8/6/10|1.340000033|1.343999982|1.301332951|1.305999994|1.305999994| 11128500|\n",
            "| 28|  8/9/10|1.326666951|1.332000017| 1.29666698| 1.30666697| 1.30666697| 12190500|\n",
            "| 29| 8/10/10|1.309999943|1.309999943|1.254667044|1.268666983|1.268666983| 19219500|\n",
            "| 30| 8/11/10|1.246000051|1.258666992|1.190000057| 1.19333303| 1.19333303| 11964000|\n",
            "| 31| 8/12/10|1.186666965| 1.19333303|1.159332991|1.173333049|1.173333049| 10365000|\n",
            "| 32| 8/13/10|1.212000012|1.230000019|1.177332997|1.221333027|1.221333027|  9510000|\n",
            "| 33| 8/16/10|1.230000019|1.253332973|1.217332959|1.251999974|1.251999974|  7287000|\n",
            "| 34| 8/17/10|1.264000058|1.293333054|1.251999974|1.276666999|1.276666999|  6718500|\n",
            "| 35| 8/18/10|1.305999994|1.305999994| 1.24000001|1.251332998|1.251332998|  9019500|\n",
            "| 36| 8/19/10|1.235999942|1.283332944|1.222000003| 1.25266695| 1.25266695|  8686500|\n",
            "| 37| 8/20/10|1.243332982|1.274000049|1.233999968|1.273332953|1.273332953|  4440000|\n",
            "| 38| 8/23/10| 1.27266705|1.359333038|1.266667008|1.342000008|1.342000008| 16321500|\n",
            "| 39| 8/24/10|1.283332944| 1.31400001|1.263332963|1.279999971|1.279999971| 10096500|\n",
            "| 40| 8/25/10|1.277333021|1.332000017|1.237333059|1.326666951|1.326666951|  7549500|\n",
            "| 41| 8/26/10|1.325999975|1.351333022| 1.30666697|1.316666961|1.316666961|  6507000|\n",
            "| 42| 8/27/10|1.316666961|1.324666977|1.299999952|1.313333035|1.313333035|  5694000|\n",
            "| 43| 8/30/10|1.313333035|1.345999956|1.307332993|1.324666977|1.324666977| 10992000|\n",
            "| 44| 8/31/10|1.310667038|1.319332957|1.288666964|1.298666954|1.298666954|  3016500|\n",
            "| 45|  9/1/10|1.307999969|1.379333019| 1.30666697|1.363332987|1.363332987|  7423500|\n",
            "| 46|  9/2/10| 1.35800004|1.416000009|1.353999972|1.404000044|1.404000044|  7306500|\n",
            "| 47|  9/3/10|1.391332984|1.419999957|1.377333045|1.403332949|1.403332949|  6519000|\n",
            "| 48|  9/7/10|1.373999953|1.399999976|1.366667032|1.369333029|1.369333029|  3651000|\n",
            "| 49|  9/8/10|1.377333045|1.396667004|1.373332977|1.393332958|1.393332958|  4326000|\n",
            "| 50|  9/9/10|1.399999976|1.403332949|1.379333019|1.380666971|1.380666971|  5643000|\n",
            "| 51| 9/10/10|1.383332968|1.395333052|1.317332983|1.344666958|1.344666958|  5799000|\n",
            "| 52| 9/13/10|1.392667055|1.393332958|1.366667032|1.381332994|1.381332994|  5412000|\n",
            "| 53| 9/14/10|1.369333029|1.440000057|1.368667006|1.407999992|1.407999992|  9820500|\n",
            "| 54| 9/15/10|1.398666978|1.466667056|1.386000037|1.465332985|1.465332985| 10269000|\n",
            "| 55| 9/16/10|1.476667047| 1.54400003| 1.38933301|1.396000028|1.396000028| 40267500|\n",
            "| 56| 9/17/10|1.401332974|1.421332955|1.320000052|1.348667026|1.348667026| 17977500|\n",
            "| 57| 9/20/10|1.378000021|1.423333049|1.343999982|1.404000044|1.404000044| 14212500|\n",
            "| 58| 9/21/10|1.392667055|1.436666965|1.378000021|1.384667039|1.384667039| 11940000|\n",
            "| 59| 9/22/10|1.391332984|1.396667004|1.320000052|1.324666977|1.324666977| 14443500|\n",
            "| 60| 9/23/10|1.325999975|1.342666984|1.299999952| 1.30400002| 1.30400002| 10021500|\n",
            "| 61| 9/24/10|1.330000043|1.345999956|1.309999943|1.340000033|1.340000033|  8683500|\n",
            "| 62| 9/27/10|1.360000014|1.387333035|1.336666942|1.368667006|1.368667006|  6279000|\n",
            "| 63| 9/28/10|1.402667046|1.432667017|1.383999944|1.426666975|1.426666975| 18217500|\n",
            "| 64| 9/29/10|1.412667036| 1.46866703|1.408666968|1.465332985|1.465332985| 29539500|\n",
            "| 65| 9/30/10|1.466667056|1.476667047|1.345999956| 1.36066699| 1.36066699| 32937000|\n",
            "| 66| 10/1/10|1.379333019|1.383332968|1.353999972|1.373332977|1.373332977|  8965500|\n",
            "| 67| 10/4/10|1.361999989|1.411332965|1.353332996|   1.399333|   1.399333|  9654000|\n",
            "| 68| 10/5/10|1.409999967|1.418666959|1.400666952|1.407999992|1.407999992|  4980000|\n",
            "| 69| 10/6/10|1.404000044|1.417333007|1.354666948|1.363999963|1.363999963|  4701000|\n",
            "| 70| 10/7/10|1.371333003|1.376000047|1.355999947|1.361999989|1.361999989|  2115000|\n",
            "| 71| 10/8/10|1.361999989|1.386000037|1.359333038|1.361999989|1.361999989|  4017000|\n",
            "| 72|10/11/10|1.362666965|1.379999995|1.338000059|1.349333048|1.349333048|  2568000|\n",
            "| 73|10/12/10|1.346667051|1.351999998| 1.33533299|1.349333048|1.349333048|  3660000|\n",
            "| 74|10/13/10|1.376000047|1.389999986|1.357332945|1.369333029|1.369333029|  4773000|\n",
            "| 75|10/14/10|1.399999976| 1.40199995|1.360000014|1.383332968|1.383332968|  4422000|\n",
            "| 76|10/15/10|1.392667055|1.393332958|1.350000024|1.369333029|1.369333029|  4270500|\n",
            "| 77|10/18/10|1.368000031|1.376000047| 1.34800005|1.348667026|1.348667026|  2442000|\n",
            "| 78|10/19/10|1.346667051| 1.36066699|1.333333015|1.336666942|1.336666942|  3678000|\n",
            "| 79|10/20/10|1.343999982|1.379333019|1.335999966|1.376667023|1.376667023|  4687500|\n",
            "| 80|10/21/10|1.373999953|1.396667004|1.363332987|1.383332968|1.383332968|  6256500|\n",
            "| 81|10/22/10|1.378666997|1.395333052|1.370000005|1.381332994|1.381332994|  2416500|\n",
            "| 82|10/25/10|1.396000028|1.398666978|1.381999969|1.389999986|1.389999986|  1777500|\n",
            "| 83|10/26/10|1.386667013|1.457999945|1.367333055|1.424000025|1.424000025|  9913500|\n",
            "| 84|10/27/10|1.416666985|1.425333023|1.376667023|1.399999976|1.399999976|  5347500|\n",
            "| 85|10/28/10|1.425999999|1.433333039|1.397333026|1.412667036|1.412667036|  3363000|\n",
            "| 86|10/29/10|1.409332991|1.456666946|1.403332949| 1.45599997| 1.45599997|  4209000|\n",
            "| 87| 11/1/10|1.462666988|1.516667008|1.420667052|1.427332997|1.427332997|  6837000|\n",
            "| 88| 11/2/10|1.445333004| 1.45866704|1.403332949|1.416666985|1.416666985|  4837500|\n",
            "| 89| 11/3/10|1.418666959|        1.5|1.410666943|1.451333046|1.451333046|  5589000|\n",
            "| 90| 11/4/10|1.506667018|1.688667059|1.476667047|1.659999967|1.659999967| 28110000|\n",
            "| 91| 11/5/10|1.657999992| 1.66466701|1.581333041|1.629333019|1.629333019| 15165000|\n",
            "| 92| 11/8/10|1.633332968|1.666666985|1.601999998|1.665333033|1.665333033|  7642500|\n",
            "| 93| 11/9/10|1.666666985|1.712666988|1.603332996| 1.64199996| 1.64199996| 14346000|\n",
            "| 94|11/10/10|1.631999969|1.998000026|1.603332996|1.957332969|1.957332969| 45907500|\n",
            "| 95|11/11/10|1.906666994|1.940000057|1.822000027|1.869333029|1.869333029| 29179500|\n",
            "| 96|11/12/10|1.883332968|2.033333063|1.871333003|1.989333034|1.989333034| 40936500|\n",
            "| 97|11/15/10|2.014667034|2.196000099|2.014667034|2.053333044|2.053333044| 39343500|\n",
            "| 98|11/16/10| 2.06666708|2.093333006|1.894667029|1.978000045|1.978000045| 20214000|\n",
            "| 99|11/17/10|2.013333082|2.049999952|1.907333016|1.965999961|1.965999961| 11250000|\n",
            "+---+--------+-----------+-----------+-----------+-----------+-----------+---------+\n",
            "only showing top 100 rows\n",
            "\n"
          ]
        }
      ]
    },
    {
      "cell_type": "markdown",
      "source": [
        "## C.Memeriksa Nilai Null"
      ],
      "metadata": {
        "id": "pan2nAG6zsZ9"
      }
    },
    {
      "cell_type": "code",
      "source": [
        "import pyspark.sql.functions as F\n",
        "\n",
        "# Menghitung jumlah nilai null pada setiap kolom\n",
        "df.select([F.count(F.when(F.isnull(c), c)).alias(c) for c in df.columns]).show()\n",
        "\n",
        "# Menampilkan baris yang mengandung nilai null pada kolom \"tgl\"\n",
        "df.filter(F.isnull(F.col(\"tgl\"))).show()"
      ],
      "metadata": {
        "colab": {
          "base_uri": "https://localhost:8080/"
        },
        "id": "476Za8swza_B",
        "outputId": "752bec33-97d4-4a7d-a9cc-b0f8bb12d1fe"
      },
      "execution_count": 8,
      "outputs": [
        {
          "output_type": "stream",
          "name": "stdout",
          "text": [
            "+---+---+----+------+------+-----+---------+---+\n",
            "|_c0|tgl|buka|tinggi|rendah|tutup|adj_tutup|vol|\n",
            "+---+---+----+------+------+-----+---------+---+\n",
            "|  0|  0|   0|     0|     0|    0|        0|  0|\n",
            "+---+---+----+------+------+-----+---------+---+\n",
            "\n",
            "+---+---+----+------+------+-----+---------+---+\n",
            "|_c0|tgl|buka|tinggi|rendah|tutup|adj_tutup|vol|\n",
            "+---+---+----+------+------+-----+---------+---+\n",
            "+---+---+----+------+------+-----+---------+---+\n",
            "\n"
          ]
        }
      ]
    },
    {
      "cell_type": "code",
      "source": [
        "import pyspark.sql.functions as F\n",
        "\n",
        "# Menghitung jumlah nilai null pada setiap kolom\n",
        "df.select([F.sum(F.when(F.isnull(c), 1).otherwise(0)).alias(c) for c in df.columns]).show()"
      ],
      "metadata": {
        "colab": {
          "base_uri": "https://localhost:8080/"
        },
        "id": "X8M6RC3R1SAD",
        "outputId": "2ee5aa22-5b19-4071-c285-2283fb353e93"
      },
      "execution_count": 9,
      "outputs": [
        {
          "output_type": "stream",
          "name": "stdout",
          "text": [
            "+---+---+----+------+------+-----+---------+---+\n",
            "|_c0|tgl|buka|tinggi|rendah|tutup|adj_tutup|vol|\n",
            "+---+---+----+------+------+-----+---------+---+\n",
            "|  0|  0|   0|     0|     0|    0|        0|  0|\n",
            "+---+---+----+------+------+-----+---------+---+\n",
            "\n"
          ]
        }
      ]
    },
    {
      "cell_type": "code",
      "source": [
        "df.filter(F.col(\"tgl\").isNull()).show()\n",
        "\n",
        "df.filter(F.col(\"buka\").isNull()).show()"
      ],
      "metadata": {
        "colab": {
          "base_uri": "https://localhost:8080/"
        },
        "id": "WJQh6Rz51_g8",
        "outputId": "9f0d2aa9-c947-46d4-aabf-1826659574e4"
      },
      "execution_count": 10,
      "outputs": [
        {
          "output_type": "stream",
          "name": "stdout",
          "text": [
            "+---+---+----+------+------+-----+---------+---+\n",
            "|_c0|tgl|buka|tinggi|rendah|tutup|adj_tutup|vol|\n",
            "+---+---+----+------+------+-----+---------+---+\n",
            "+---+---+----+------+------+-----+---------+---+\n",
            "\n",
            "+---+---+----+------+------+-----+---------+---+\n",
            "|_c0|tgl|buka|tinggi|rendah|tutup|adj_tutup|vol|\n",
            "+---+---+----+------+------+-----+---------+---+\n",
            "+---+---+----+------+------+-----+---------+---+\n",
            "\n"
          ]
        }
      ]
    },
    {
      "cell_type": "markdown",
      "source": [
        "## C.Menampilkan Nilai Sumary"
      ],
      "metadata": {
        "id": "Egmd6Rx72o3_"
      }
    },
    {
      "cell_type": "markdown",
      "source": [],
      "metadata": {
        "id": "6iwMpAWn1iKr"
      }
    },
    {
      "cell_type": "code",
      "source": [
        "import pyspark.sql.functions as F\n",
        "\n",
        "df.describe().show()"
      ],
      "metadata": {
        "colab": {
          "base_uri": "https://localhost:8080/"
        },
        "id": "yIleB6FB2tx_",
        "outputId": "a6345fc8-4f15-4317-a93f-ae6623a8aa39"
      },
      "execution_count": 11,
      "outputs": [
        {
          "output_type": "stream",
          "name": "stdout",
          "text": [
            "+-------+-----------------+-------+------------------+-----------------+------------------+------------------+------------------+-------------------+\n",
            "|summary|              _c0|    tgl|              buka|           tinggi|            rendah|             tutup|         adj_tutup|                vol|\n",
            "+-------+-----------------+-------+------------------+-----------------+------------------+------------------+------------------+-------------------+\n",
            "|  count|             3637|   3637|              3637|             3637|              3637|              3637|              3637|               3637|\n",
            "|   mean|           1818.0|   NULL| 80.08057396726478| 81.8327098768875| 78.21927645228948| 80.06795196634039| 80.06795196634039|9.667329755292824E7|\n",
            "| stddev|1050.055792168524|   NULL|105.46613092977255|107.8071696743339|102.93120789566268|105.40944792971469|105.40944792971469|7.787314294808559E7|\n",
            "|    min|                0|1/10/11|       1.075999975|      1.108667016|       0.998667002|       1.053333044|       1.053333044|            1777500|\n",
            "|    max|             3636| 9/9/24|       411.4700012|      414.4966736|       405.6666565|       409.9700012|       409.9700012|          914082000|\n",
            "+-------+-----------------+-------+------------------+-----------------+------------------+------------------+------------------+-------------------+\n",
            "\n"
          ]
        }
      ]
    },
    {
      "cell_type": "markdown",
      "source": [
        "## C.Menampilkan Matriks Korelasinya  "
      ],
      "metadata": {
        "id": "CtPpoP7V2yhn"
      }
    },
    {
      "cell_type": "code",
      "source": [
        "from pyspark.ml.feature import VectorAssembler\n",
        "from pyspark.ml.stat import Correlation\n",
        "import seaborn as sns\n",
        "from pyspark.ml.feature import VectorAssembler\n",
        "from pyspark.ml.stat import Correlation\n",
        "import seaborn as sns\n",
        "import matplotlib.pyplot as plt\n",
        "\n",
        "integer_columns = [col_name for col_name, col_type in df.dtypes if col_type == 'int']\n",
        "from pyspark.ml.feature import VectorAssembler\n",
        "from pyspark.ml.stat import Correlation\n",
        "import seaborn as sns\n",
        "import matplotlib.pyplot as plt\n",
        "\n",
        "integer_columns = [col_name for col_name, col_type in df.dtypes if col_type == 'int']\n",
        "vector_assembler = VectorAssembler(inputCols=integer_columns, outputCol=\"features\")\n",
        "df_assembled = vector_assembler.transform(df).select(\"features\")\n",
        "matrix = Correlation.corr(df_assembled, \"features\").head()\n",
        "correlation_matrix = matrix[0].toArray()\n",
        "column_names = df_assembled.schema[\"features\"].metadata[\"ml_attr\"][\"attrs\"][\"numeric\"]\n",
        "plt.figure(figsize=(12, 8))\n",
        "sns.heatmap(correlation_matrix, annot=True, cmap=\"coolwarm\", fmt=\".2f\", linewidths=.5,\n",
        "            xticklabels=[col[\"name\"] for col in column_names],\n",
        "            yticklabels=[col[\"name\"] for col in column_names])\n",
        "plt.title(\"Correlation Matrix Heatmap (Integer Columns Only)\")\n",
        "plt.show()"
      ],
      "metadata": {
        "colab": {
          "base_uri": "https://localhost:8080/",
          "height": 517
        },
        "id": "Y54kt4wf2yBE",
        "outputId": "16d4cdda-b418-48ee-9824-3f9dbdc3c14e"
      },
      "execution_count": 12,
      "outputs": [
        {
          "output_type": "display_data",
          "data": {
            "text/plain": [
              "<Figure size 1200x800 with 2 Axes>"
            ],
            "image/png": "[encoded data removed]"
          },
          "metadata": {}
        }
      ]
    },
    {
      "cell_type": "markdown",
      "source": [
        "## D.exploratory data analysis (EDA) bar dan pie"
      ],
      "metadata": {
        "id": "LuVv0WC-1zt6"
      }
    },
    {
      "cell_type": "code",
      "source": [
        "import pandas as pd\n",
        "import matplotlib.pyplot as plt\n",
        "import seaborn as sns\n",
        "\n",
        "df = pd.read_csv('/content/TESLA.csv', parse_dates=['Date'])\n",
        "\n",
        "# Filter data untuk tahun 2024\n",
        "df_2024 = df[df['Date'].dt.year == 2024]\n",
        "\n",
        "# Analisis deskriptif\n",
        "print(df_2024.describe())\n",
        "\n",
        "# Visualisasi menggunakan bar chart\n",
        "# Distribusi harga penutupan per bulan\n",
        "plt.figure(figsize=(10, 6))\n",
        "sns.barplot(x=df_2024['Date'].dt.month, y='Close', data=df_2024)\n",
        "plt.title('Distribusi Harga Penutupan Saham Tesla per Bulan (2024)')\n",
        "plt.xlabel('Bulan')\n",
        "plt.ylabel('Harga Penutupan')\n",
        "plt.show()"
      ],
      "metadata": {
        "colab": {
          "base_uri": "https://localhost:8080/",
          "height": 847
        },
        "id": "it7E4Y961-eF",
        "outputId": "cadfc7ac-239e-4c0e-9163-eefb750db2a6"
      },
      "execution_count": 13,
      "outputs": [
        {
          "output_type": "stream",
          "name": "stderr",
          "text": [
            "<ipython-input-13-9d15355cf6be>:5: UserWarning: Could not infer format, so each element will be parsed individually, falling back to `dateutil`. To ensure parsing is consistent and as-expected, please specify a format.\n",
            "  df = pd.read_csv('/content/TESLA.csv', parse_dates=['Date'])\n"
          ]
        },
        {
          "output_type": "stream",
          "name": "stdout",
          "text": [
            "        Unnamed: 0                           Date        Open        High  \\\n",
            "count   237.000000                            237  237.000000  237.000000   \n",
            "mean   3518.000000  2024-06-20 23:53:55.443037952  217.609579  222.198439   \n",
            "min    3400.000000            2024-01-02 00:00:00  140.559998  144.440002   \n",
            "25%    3459.000000            2024-03-27 00:00:00  179.990005  183.259995   \n",
            "50%    3518.000000            2024-06-21 00:00:00  208.630005  213.190002   \n",
            "75%    3577.000000            2024-09-16 00:00:00  241.809998  246.210007   \n",
            "max    3636.000000            2024-12-09 00:00:00  397.609985  404.799988   \n",
            "std      68.560193                            NaN   50.015113   51.423516   \n",
            "\n",
            "              Low       Close   Adj Close        Volume  \n",
            "count  237.000000  237.000000  237.000000  2.370000e+02  \n",
            "mean   213.061603  217.699241  217.699241  9.468827e+07  \n",
            "min    138.800003  142.050003  142.050003  3.716760e+07  \n",
            "25%    175.580002  178.789993  178.789993  7.098810e+07  \n",
            "50%    204.820007  207.830002  207.830002  8.675950e+07  \n",
            "75%    236.320007  240.660004  240.660004  1.098157e+08  \n",
            "max    378.010010  389.790008  389.790008  2.438697e+08  \n",
            "std     48.490013   50.158618   50.158618  3.373331e+07  \n"
          ]
        },
        {
          "output_type": "display_data",
          "data": {
            "text/plain": [
              "<Figure size 1000x600 with 1 Axes>"
            ],
            "image/png": "[encoded data removed]"
          },
          "metadata": {}
        }
      ]
    },
    {
      "cell_type": "code",
      "source": [
        "volume_median = df_2024['Volume'].median()\n",
        "df_2024.loc[df_2024['Volume'] > volume_median, 'VolumeCategory'] = 'Tinggi'\n",
        "df_2024.loc[df_2024['Volume'] <= volume_median, 'VolumeCategory'] = 'Rendah'\n",
        "\n",
        "\n",
        "plt.figure(figsize=(5, 5))\n",
        "labels = df_2024['VolumeCategory'].unique()\n",
        "plt.pie(df_2024['VolumeCategory'].value_counts(), labels=labels, autopct='%1.1f%%')\n",
        "plt.title('Proporsi Volume Perdagangan Tinggi vs Rendah (2024)')\n",
        "plt.show()"
      ],
      "metadata": {
        "colab": {
          "base_uri": "https://localhost:8080/",
          "height": 575
        },
        "id": "AjWmfELW2jt1",
        "outputId": "60bb1eab-76e5-4b84-dd2a-58e2fb7b47b7"
      },
      "execution_count": 14,
      "outputs": [
        {
          "output_type": "stream",
          "name": "stderr",
          "text": [
            "<ipython-input-14-0c9f2e045c23>:2: SettingWithCopyWarning: \n",
            "A value is trying to be set on a copy of a slice from a DataFrame.\n",
            "Try using .loc[row_indexer,col_indexer] = value instead\n",
            "\n",
            "See the caveats in the documentation: https://pandas.pydata.org/pandas-docs/stable/user_guide/indexing.html#returning-a-view-versus-a-copy\n",
            "  df_2024.loc[df_2024['Volume'] > volume_median, 'VolumeCategory'] = 'Tinggi'\n"
          ]
        },
        {
          "output_type": "display_data",
          "data": {
            "text/plain": [
              "<Figure size 500x500 with 1 Axes>"
            ],
            "image/png": "[encoded data removed]"
          },
          "metadata": {}
        }
      ]
    },
    {
      "cell_type": "code",
      "source": [
        "import pandas as pd\n",
        "import matplotlib.pyplot as plt\n",
        "import seaborn as sns\n",
        "\n",
        "df = pd.read_csv('/content/TESLA.csv', parse_dates=['Date'], infer_datetime_format=True)\n",
        "\n",
        "plt.figure(figsize=(10, 6))\n",
        "sns.histplot(data=df, x='Adj Close', bins=30, kde=True)\n",
        "plt.title('Distribusi Harga Penutupan Saham Tesla')\n",
        "plt.xlabel('Harga Penutupan')\n",
        "plt.ylabel('Frekuensi')\n",
        "plt.show()"
      ],
      "metadata": {
        "colab": {
          "base_uri": "https://localhost:8080/",
          "height": 529
        },
        "id": "wGEQPPEH7lbY",
        "outputId": "e59ca294-4b9b-453f-b866-07601324faf4"
      },
      "execution_count": 15,
      "outputs": [
        {
          "output_type": "stream",
          "name": "stderr",
          "text": [
            "<ipython-input-15-2fdc04cc4a09>:5: FutureWarning: The argument 'infer_datetime_format' is deprecated and will be removed in a future version. A strict version of it is now the default, see https://pandas.pydata.org/pdeps/0004-consistent-to-datetime-parsing.html. You can safely remove this argument.\n",
            "  df = pd.read_csv('/content/TESLA.csv', parse_dates=['Date'], infer_datetime_format=True)\n",
            "<ipython-input-15-2fdc04cc4a09>:5: UserWarning: Could not infer format, so each element will be parsed individually, falling back to `dateutil`. To ensure parsing is consistent and as-expected, please specify a format.\n",
            "  df = pd.read_csv('/content/TESLA.csv', parse_dates=['Date'], infer_datetime_format=True)\n"
          ]
        },
        {
          "output_type": "display_data",
          "data": {
            "text/plain": [
              "<Figure size 1000x600 with 1 Axes>"
            ],
            "image/png": "[encoded data removed]"
          },
          "metadata": {}
        }
      ]
    },
    {
      "cell_type": "markdown",
      "source": [
        "## 2.A"
      ],
      "metadata": {
        "id": "uJEidtegiKav"
      }
    },
    {
      "cell_type": "markdown",
      "source": [
        "## Random Forest"
      ],
      "metadata": {
        "id": "5oGJ7dZ3oKji"
      }
    },
    {
      "cell_type": "code",
      "source": [
        "from pyspark.sql import SparkSession\n",
        "from pyspark.ml.classification import RandomForestClassifier\n",
        "from pyspark.ml.feature import VectorAssembler\n",
        "from pyspark.ml.evaluation import MulticlassClassificationEvaluator\n",
        "from pyspark.sql.functions import when\n",
        "\n",
        "spark = SparkSession.builder.appName(\"RandomForestExample\").getOrCreate()\n",
        "\n",
        "data = spark.read.csv(\"/content/TESLA.csv\", header=True, inferSchema=True)\n",
        "\n",
        "feature_columns = ['Open', 'High', 'Low', 'Close', 'Volume']\n",
        "assembler = VectorAssembler(inputCols=feature_columns, outputCol=\"features\")\n",
        "data = assembler.transform(data)\n",
        "\n",
        "data = data.withColumn(\"label\", when(data[\"Close\"] > data[\"Open\"], 1).otherwise(0))\n",
        "\n",
        "train_data, test_data = data.randomSplit([0.8, 0.2])\n",
        "\n",
        "rf = RandomForestClassifier(labelCol=\"label\", featuresCol=\"features\")\n",
        "model = rf.fit(train_data)\n",
        "\n",
        "predictions = model.transform(test_data)\n",
        "evaluator = MulticlassClassificationEvaluator(labelCol=\"label\", predictionCol=\"prediction\", metricName=\"accuracy\")\n",
        "accuracy = evaluator.evaluate(predictions)\n",
        "\n",
        "print(f\"Accuracy: {accuracy}\")"
      ],
      "metadata": {
        "colab": {
          "base_uri": "https://localhost:8080/"
        },
        "id": "97bxEkQwiM7W",
        "outputId": "15814d4f-5189-47e9-a850-f334720459ed"
      },
      "execution_count": 16,
      "outputs": [
        {
          "output_type": "stream",
          "name": "stdout",
          "text": [
            "Accuracy: 0.5549132947976878\n"
          ]
        }
      ]
    },
    {
      "cell_type": "markdown",
      "source": [
        "## Gradient Boost Tree"
      ],
      "metadata": {
        "id": "bdZr1fRaoV_F"
      }
    },
    {
      "cell_type": "code",
      "source": [
        "from pyspark.ml.classification import GBTClassifier\n",
        "\n",
        "gbt = GBTClassifier(labelCol=\"label\", featuresCol=\"features\")\n",
        "gbt_model = gbt.fit(train_data)\n",
        "\n",
        "gbt_predictions = gbt_model.transform(test_data)\n",
        "gbt_accuracy = evaluator.evaluate(gbt_predictions)\n",
        "\n",
        "print(f\"GBT Accuracy: {gbt_accuracy}\")\n"
      ],
      "metadata": {
        "colab": {
          "base_uri": "https://localhost:8080/"
        },
        "id": "yb9F8GrPoZqg",
        "outputId": "5dcd8b57-27f5-4aa2-a8c4-5add78898c36"
      },
      "execution_count": 17,
      "outputs": [
        {
          "output_type": "stream",
          "name": "stdout",
          "text": [
            "GBT Accuracy: 0.6026011560693642\n"
          ]
        }
      ]
    },
    {
      "cell_type": "markdown",
      "source": [
        "## Logistic Regression"
      ],
      "metadata": {
        "id": "-xwPnWnuopIh"
      }
    },
    {
      "cell_type": "code",
      "source": [
        "from pyspark.ml.classification import LogisticRegression\n",
        "\n",
        "lr = LogisticRegression(labelCol=\"label\", featuresCol=\"features\")\n",
        "lr_model = lr.fit(train_data)\n",
        "\n",
        "lr_predictions = lr_model.transform(test_data)\n",
        "lr_accuracy = evaluator.evaluate(lr_predictions)\n",
        "\n",
        "print(f\"Logistic Regression Accuracy: {lr_accuracy}\")\n"
      ],
      "metadata": {
        "colab": {
          "base_uri": "https://localhost:8080/"
        },
        "id": "uGLn_r38ojnd",
        "outputId": "8926c9de-1f06-4c3e-9dc7-1bdb8585d506"
      },
      "execution_count": 18,
      "outputs": [
        {
          "output_type": "stream",
          "name": "stdout",
          "text": [
            "Logistic Regression Accuracy: 0.9971098265895953\n"
          ]
        }
      ]
    },
    {
      "cell_type": "markdown",
      "source": [
        "## Decision Tree Classifier"
      ],
      "metadata": {
        "id": "DsRDTCf2ozGn"
      }
    },
    {
      "cell_type": "code",
      "source": [
        "from pyspark.ml.classification import DecisionTreeClassifier\n",
        "\n",
        "dt = DecisionTreeClassifier(labelCol=\"label\", featuresCol=\"features\")\n",
        "dt_model = dt.fit(train_data)\n",
        "\n",
        "dt_predictions = dt_model.transform(test_data)\n",
        "dt_accuracy = evaluator.evaluate(dt_predictions)\n",
        "\n",
        "print(f\"Decision Tree Accuracy: {dt_accuracy}\")\n"
      ],
      "metadata": {
        "colab": {
          "base_uri": "https://localhost:8080/"
        },
        "id": "ui0SukFMo2pR",
        "outputId": "a3c42696-597f-479e-af8c-4b9d0286fccc"
      },
      "execution_count": 19,
      "outputs": [
        {
          "output_type": "stream",
          "name": "stdout",
          "text": [
            "Decision Tree Accuracy: 0.5028901734104047\n"
          ]
        }
      ]
    },
    {
      "cell_type": "code",
      "source": [
        "from pyspark.ml.evaluation import BinaryClassificationEvaluator, MulticlassClassificationEvaluator\n",
        "\n",
        "# Untuk AUC\n",
        "evaluator_auc = BinaryClassificationEvaluator(labelCol=\"label\", rawPredictionCol=\"rawPrediction\", metricName=\"areaUnderROC\")\n",
        "auc = evaluator_auc.evaluate(predictions)\n",
        "\n",
        "# Untuk Akurasi\n",
        "evaluator_accuracy = MulticlassClassificationEvaluator(labelCol=\"label\", predictionCol=\"prediction\", metricName=\"accuracy\")\n",
        "accuracy = evaluator_accuracy.evaluate(predictions)\n",
        "\n",
        "# Untuk Presisi dan Recall\n",
        "evaluator_precision = MulticlassClassificationEvaluator(labelCol=\"label\", predictionCol=\"prediction\", metricName=\"weightedPrecision\")\n",
        "precision = evaluator_precision.evaluate(predictions)\n",
        "\n",
        "evaluator_recall = MulticlassClassificationEvaluator(labelCol=\"label\", predictionCol=\"prediction\", metricName=\"weightedRecall\")\n",
        "recall = evaluator_recall.evaluate(predictions)\n",
        "\n",
        "# Untuk F1 Score\n",
        "evaluator_f1 = MulticlassClassificationEvaluator(labelCol=\"label\", predictionCol=\"prediction\", metricName=\"f1\")\n",
        "f1_score = evaluator_f1.evaluate(predictions)\n",
        "\n",
        "# Menampilkan hasil\n",
        "print(f\"AUC: {auc}\")\n",
        "print(f\"Akurasi: {accuracy}\")\n",
        "print(f\"Presisi: {precision}\")\n",
        "print(f\"Recall: {recall}\")\n",
        "print(f\"F1 Score: {f1_score}\")\n"
      ],
      "metadata": {
        "colab": {
          "base_uri": "https://localhost:8080/"
        },
        "id": "rNP1dh5spG93",
        "outputId": "dc28f13d-17f2-4b9f-c282-c9bde3bbe4c4"
      },
      "execution_count": 20,
      "outputs": [
        {
          "output_type": "stream",
          "name": "stdout",
          "text": [
            "AUC: 0.576881156990149\n",
            "Akurasi: 0.5549132947976878\n",
            "Presisi: 0.5713838706229177\n",
            "Recall: 0.5549132947976879\n",
            "F1 Score: 0.54684248548808\n"
          ]
        }
      ]
    },
    {
      "cell_type": "markdown",
      "source": [
        "## B.classification 2 model (Gradient Boost Tree dan Logistic Regression)"
      ],
      "metadata": {
        "id": "kv3UfnEupeHw"
      }
    },
    {
      "cell_type": "code",
      "source": [
        "from pyspark.ml.classification import LogisticRegression\n",
        "from pyspark.ml.evaluation import BinaryClassificationEvaluator\n",
        "from pyspark.ml.tuning import CrossValidator, ParamGridBuilder\n",
        "\n",
        "# Definisikan Logistic Regression\n",
        "lr = LogisticRegression(labelCol=\"label\", featuresCol=\"features\")\n",
        "\n",
        "# Buat grid hyperparameter untuk diuji\n",
        "param_grid = (ParamGridBuilder()\n",
        "              .addGrid(lr.regParam, [0.01, 0.1, 1.0])  # Regularization parameter\n",
        "              .addGrid(lr.elasticNetParam, [0.0, 0.5, 1.0])  # Elastic Net mixing parameter\n",
        "              .build())\n",
        "\n",
        "# Evaluator untuk menghitung performa model\n",
        "evaluator = BinaryClassificationEvaluator(labelCol=\"label\", metricName=\"areaUnderROC\")\n",
        "\n",
        "# Definisikan CrossValidator\n",
        "cross_validator = CrossValidator(estimator=lr,\n",
        "                                  estimatorParamMaps=param_grid,\n",
        "                                  evaluator=evaluator,\n",
        "                                  numFolds=5)  # Cross-validation dengan 5 fold\n",
        "\n",
        "# Lakukan fitting model dengan data latih\n",
        "cv_model = cross_validator.fit(train_data)\n",
        "\n",
        "# Gunakan model terbaik untuk prediksi pada data uji\n",
        "best_model = cv_model.bestModel\n",
        "lr_predictions = best_model.transform(test_data)\n",
        "\n",
        "# Evaluasi model terbaik\n",
        "lr_accuracy = evaluator.evaluate(lr_predictions)\n",
        "print(f\"Logistic Regression Accuracy (Best Model): {lr_accuracy}\")\n",
        "\n",
        "# Hyperparameter terbaik\n",
        "print(\"Best Model Parameters:\")\n",
        "print(f\"  regParam: {best_model._java_obj.getRegParam()}\")\n",
        "print(f\"  elasticNetParam: {best_model._java_obj.getElasticNetParam()}\")"
      ],
      "metadata": {
        "colab": {
          "base_uri": "https://localhost:8080/"
        },
        "id": "fnTRpzeLpf-D",
        "outputId": "879643bc-ee36-4c1d-eecc-f6fc2d8d0a08"
      },
      "execution_count": 21,
      "outputs": [
        {
          "output_type": "stream",
          "name": "stdout",
          "text": [
            "Logistic Regression Accuracy (Best Model): 0.6132886187382101\n",
            "Best Model Parameters:\n",
            "  regParam: 0.01\n",
            "  elasticNetParam: 0.0\n"
          ]
        }
      ]
    },
    {
      "cell_type": "code",
      "source": [
        "from pyspark.ml.classification import GBTClassifier\n",
        "from pyspark.ml.evaluation import BinaryClassificationEvaluator\n",
        "from pyspark.ml.tuning import CrossValidator, ParamGridBuilder\n",
        "\n",
        "# Definisikan GBTClassifier\n",
        "gbt = GBTClassifier(labelCol=\"label\", featuresCol=\"features\", seed=42)\n",
        "\n",
        "# Buat grid hyperparameter untuk diuji\n",
        "param_grid = (ParamGridBuilder()\n",
        "              .addGrid(gbt.maxDepth, [3, 5, 7])  # Kedalaman maksimum pohon\n",
        "              .addGrid(gbt.maxIter, [10, 20, 30])  # Jumlah iterasi boosting\n",
        "              .addGrid(gbt.stepSize, [0.1, 0.2, 0.3])  # Learning rate\n",
        "              .build())\n",
        "\n",
        "# Evaluator untuk menghitung performa model\n",
        "evaluator = BinaryClassificationEvaluator(labelCol=\"label\", metricName=\"areaUnderROC\")\n",
        "\n",
        "# Definisikan CrossValidator\n",
        "cross_validator = CrossValidator(estimator=gbt,\n",
        "                                  estimatorParamMaps=param_grid,\n",
        "                                  evaluator=evaluator,\n",
        "                                  numFolds=5)  # Cross-validation dengan 5 fold\n",
        "\n",
        "# Lakukan fitting model dengan data latih\n",
        "cv_model = cross_validator.fit(train_data)\n",
        "\n",
        "# Gunakan model terbaik untuk prediksi pada data uji\n",
        "best_model = cv_model.bestModel\n",
        "gbt_predictions = best_model.transform(test_data)\n",
        "\n",
        "# Evaluasi model terbaik\n",
        "gbt_accuracy = evaluator.evaluate(gbt_predictions)\n",
        "print(f\"GBT Accuracy (Best Model): {gbt_accuracy}\")\n",
        "\n",
        "# Hyperparameter terbaik\n",
        "print(\"Best Model Parameters:\")\n",
        "print(f\"  maxDepth: {best_model.getOrDefault('maxDepth')}\")\n",
        "print(f\"  maxIter: {best_model.getOrDefault('maxIter')}\")\n",
        "print(f\"  stepSize: {best_model.getOrDefault('stepSize')}\")"
      ],
      "metadata": {
        "colab": {
          "base_uri": "https://localhost:8080/"
        },
        "id": "3D30AT9N_d2G",
        "outputId": "7b608e17-b99c-4806-f478-82d343415af9"
      },
      "execution_count": 22,
      "outputs": [
        {
          "output_type": "stream",
          "name": "stdout",
          "text": [
            "GBT Accuracy (Best Model): 0.696818277090757\n",
            "Best Model Parameters:\n",
            "  maxDepth: 5\n",
            "  maxIter: 30\n",
            "  stepSize: 0.3\n"
          ]
        }
      ]
    }
  ]
}